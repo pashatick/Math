{
 "cells": [
  {
   "cell_type": "code",
   "execution_count": 72,
   "metadata": {},
   "outputs": [],
   "source": [
    "import numpy as np\n",
    "import matplotlib.pyplot as plt\n",
    "%matplotlib inline\n",
    "import math"
   ]
  },
  {
   "cell_type": "code",
   "execution_count": 73,
   "metadata": {},
   "outputs": [
    {
     "data": {
      "image/png": "[encoded data removed]",
      "text/plain": [
       "<Figure size 432x288 with 1 Axes>"
      ]
     },
     "metadata": {
      "needs_background": "light"
     },
     "output_type": "display_data"
    }
   ],
   "source": [
    "x = np.linspace(1,20,1500)\n",
    "plt.scatter(x,np.cos(x))\n",
    "plt.scatter(x, np.cos(2*x))\n",
    "plt.show()"
   ]
  },
  {
   "cell_type": "markdown",
   "metadata": {},
   "source": [
    "Задание 1.\n",
    "  "
   ]
  },
  {
   "cell_type": "code",
   "execution_count": 74,
   "metadata": {},
   "outputs": [
    {
     "data": {
      "text/plain": [
       "array([[ 45. ,  90. ],\n",
       "       [ 63. , 108. ],\n",
       "       [101.7,  45. ],\n",
       "       [225. , 270. ]])"
      ]
     },
     "execution_count": 74,
     "metadata": {},
     "output_type": "execute_result"
    }
   ],
   "source": [
    "x = np.array([5, 10, 7, 12, 11.3, 5, 25,30]).reshape(4,2)\n",
    "a = x.dot(2)+x.dot(7)\n",
    "a"
   ]
  },
  {
   "cell_type": "markdown",
   "metadata": {},
   "source": [
    "Задание 2"
   ]
  },
  {
   "cell_type": "markdown",
   "metadata": {},
   "source": [
    "'''\n",
    "3x-2y+5z=7\n",
    "7x+4y-8z=3\n",
    "5x-3y-4z=-12\n",
    "____________\n",
    "y=1.5x+2.5z-3.5\n",
    "____________\n",
    "13x+2z=17\n",
    "0.5x-11.5z=-22.5\n",
    "____________\n",
    "z = 8.5-6.5x\n",
    "____________\n",
    "0.5x-97.75+74.75x=-22.5\n",
    "75.25x=75.25\n",
    "\n",
    "x=1\n",
    "y=3\n",
    "z=2\n",
    "система линейная, \n",
    "каждое уравнение линейное\n",
    "'''"
   ]
  },
  {
   "cell_type": "markdown",
   "metadata": {},
   "source": [
    "Задание 2.2"
   ]
  },
  {
   "cell_type": "markdown",
   "metadata": {},
   "source": [
    "'''\n",
    "система квадратичная\n",
    "x^2+yx-9=0 квадратичное\n",
    "x-y/5=0 линейное\n",
    "___________\n",
    "x = y/5\n",
    "___________\n",
    "\n",
    "y^2/25+y^2/5y=9\n",
    "\n",
    "___________\n",
    "y^3+5y^2-225y=0\n",
    "y(y^2+5y-225)=0\n",
    "\n",
    "y^2+5y-225=0\n",
    "d= 925\n",
    "\n",
    "y1=(5-30.4138126514911)/2=-12.7\n",
    "y2=(5+30.4138126514911)/2=17.7\n",
    "'''"
   ]
  },
  {
   "cell_type": "markdown",
   "metadata": {},
   "source": [
    "Задание 3"
   ]
  },
  {
   "cell_type": "markdown",
   "metadata": {},
   "source": [
    "'''\n",
    "2x+2y=28\n",
    "x*y=48\n",
    "\n",
    "x=14-y\n",
    "\n",
    "-y2+14y-48=0\n",
    "\n",
    "y2-14y+48=0\n",
    "\n",
    "D=4;\n",
    "y1=(14+2)/2=8;\n",
    "y2=(14-2)/2=6;\n",
    "'''\n"
   ]
  },
  {
   "cell_type": "code",
   "execution_count": null,
   "metadata": {},
   "outputs": [],
   "source": []
  },
  {
   "cell_type": "code",
   "execution_count": null,
   "metadata": {},
   "outputs": [],
   "source": []
  },
  {
   "cell_type": "code",
   "execution_count": null,
   "metadata": {},
   "outputs": [],
   "source": []
  }
 ],
 "metadata": {
  "kernelspec": {
   "display_name": "Python 3",
   "language": "python",
   "name": "python3"
  },
  "language_info": {
   "codemirror_mode": {
    "name": "ipython",
    "version": 3
   },
   "file_extension": ".py",
   "mimetype": "text/x-python",
   "name": "python",
   "nbconvert_exporter": "python",
   "pygments_lexer": "ipython3",
   "version": "3.7.3"
  }
 },
 "nbformat": 4,
 "nbformat_minor": 2
}
